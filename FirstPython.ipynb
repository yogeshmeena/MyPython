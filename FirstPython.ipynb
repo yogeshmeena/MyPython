{
  "nbformat": 4,
  "nbformat_minor": 0,
  "metadata": {
    "colab": {
      "name": "FirstPython.ipynb",
      "provenance": [],
      "authorship_tag": "ABX9TyNT1npTA4dzTJJh5XtGmp0U",
      "include_colab_link": true
    },
    "kernelspec": {
      "name": "python3",
      "display_name": "Python 3"
    }
  },
  "cells": [
    {
      "cell_type": "markdown",
      "metadata": {
        "id": "view-in-github",
        "colab_type": "text"
      },
      "source": [
        "<a href=\"https://colab.research.google.com/github/yogeshmeena/MyPython/blob/master/FirstPython.ipynb\" target=\"_parent\"><img src=\"https://colab.research.google.com/assets/colab-badge.svg\" alt=\"Open In Colab\"/></a>"
      ]
    },
    {
      "cell_type": "markdown",
      "metadata": {
        "id": "ksShh_r9edZO",
        "colab_type": "text"
      },
      "source": [
        "THis is my first Python Program"
      ]
    },
    {
      "cell_type": "code",
      "metadata": {
        "id": "melsUF-7eI-T",
        "colab_type": "code",
        "colab": {
          "base_uri": "https://localhost:8080/",
          "height": 35
        },
        "outputId": "90a18c9a-aa94-4545-e595-f9f5d66ebeb5"
      },
      "source": [
        "print(\"Hello Yogesh\")"
      ],
      "execution_count": 1,
      "outputs": [
        {
          "output_type": "stream",
          "text": [
            "Hello Yogesh\n"
          ],
          "name": "stdout"
        }
      ]
    },
    {
      "cell_type": "code",
      "metadata": {
        "id": "qSv9a3FnejI3",
        "colab_type": "code",
        "colab": {
          "base_uri": "https://localhost:8080/",
          "height": 35
        },
        "outputId": "ff79f2c0-284e-41dd-ebfa-88aa85d8eece"
      },
      "source": [
        "c = 5+10\n",
        "print(c)"
      ],
      "execution_count": 2,
      "outputs": [
        {
          "output_type": "stream",
          "text": [
            "15\n"
          ],
          "name": "stdout"
        }
      ]
    }
  ]
}